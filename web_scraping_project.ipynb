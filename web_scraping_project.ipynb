{
 "cells": [
  {
   "cell_type": "code",
   "execution_count": 14,
   "metadata": {},
   "outputs": [
    {
     "name": "stdout",
     "output_type": "stream",
     "text": [
      "Requirement already satisfied: webdrivermanager in c:\\users\\sarthak sharma\\anaconda3\\anaconda3\\lib\\site-packages (0.10.0)\n",
      "Requirement already satisfied: lxml in c:\\users\\sarthak sharma\\anaconda3\\anaconda3\\lib\\site-packages (from webdrivermanager) (4.5.2)\n",
      "Requirement already satisfied: requests in c:\\users\\sarthak sharma\\anaconda3\\anaconda3\\lib\\site-packages (from webdrivermanager) (2.24.0)\n",
      "Requirement already satisfied: appdirs in c:\\users\\sarthak sharma\\anaconda3\\anaconda3\\lib\\site-packages (from webdrivermanager) (1.4.4)\n",
      "Requirement already satisfied: BeautifulSoup4 in c:\\users\\sarthak sharma\\anaconda3\\anaconda3\\lib\\site-packages (from webdrivermanager) (4.9.1)\n",
      "Requirement already satisfied: tqdm in c:\\users\\sarthak sharma\\anaconda3\\anaconda3\\lib\\site-packages (from webdrivermanager) (4.47.0)\n",
      "Requirement already satisfied: urllib3!=1.25.0,!=1.25.1,<1.26,>=1.21.1 in c:\\users\\sarthak sharma\\anaconda3\\anaconda3\\lib\\site-packages (from requests->webdrivermanager) (1.25.9)\n",
      "Requirement already satisfied: certifi>=2017.4.17 in c:\\users\\sarthak sharma\\anaconda3\\anaconda3\\lib\\site-packages (from requests->webdrivermanager) (2020.6.20)\n",
      "Requirement already satisfied: idna<3,>=2.5 in c:\\users\\sarthak sharma\\anaconda3\\anaconda3\\lib\\site-packages (from requests->webdrivermanager) (2.10)\n",
      "Requirement already satisfied: chardet<4,>=3.0.2 in c:\\users\\sarthak sharma\\anaconda3\\anaconda3\\lib\\site-packages (from requests->webdrivermanager) (3.0.4)\n",
      "Requirement already satisfied: soupsieve>1.2 in c:\\users\\sarthak sharma\\anaconda3\\anaconda3\\lib\\site-packages (from BeautifulSoup4->webdrivermanager) (2.0.1)\n",
      "Requirement already satisfied: bs4 in c:\\users\\sarthak sharma\\anaconda3\\anaconda3\\lib\\site-packages (0.0.1)\n",
      "Requirement already satisfied: beautifulsoup4 in c:\\users\\sarthak sharma\\anaconda3\\anaconda3\\lib\\site-packages (from bs4) (4.9.1)\n",
      "Requirement already satisfied: soupsieve>1.2 in c:\\users\\sarthak sharma\\anaconda3\\anaconda3\\lib\\site-packages (from beautifulsoup4->bs4) (2.0.1)\n",
      "Requirement already satisfied: requests in c:\\users\\sarthak sharma\\anaconda3\\anaconda3\\lib\\site-packages (2.24.0)\n",
      "Requirement already satisfied: certifi>=2017.4.17 in c:\\users\\sarthak sharma\\anaconda3\\anaconda3\\lib\\site-packages (from requests) (2020.6.20)\n",
      "Requirement already satisfied: idna<3,>=2.5 in c:\\users\\sarthak sharma\\anaconda3\\anaconda3\\lib\\site-packages (from requests) (2.10)\n",
      "Requirement already satisfied: chardet<4,>=3.0.2 in c:\\users\\sarthak sharma\\anaconda3\\anaconda3\\lib\\site-packages (from requests) (3.0.4)\n",
      "Requirement already satisfied: urllib3!=1.25.0,!=1.25.1,<1.26,>=1.21.1 in c:\\users\\sarthak sharma\\anaconda3\\anaconda3\\lib\\site-packages (from requests) (1.25.9)\n"
     ]
    }
   ],
   "source": [
    "!pip install webdrivermanager\n",
    "!pip install bs4\n",
    "!pip install requests"
   ]
  },
  {
   "cell_type": "code",
   "execution_count": 15,
   "metadata": {},
   "outputs": [],
   "source": [
    "import os\n",
    "import time\n",
    "from datetime import date\n",
    "import csv\n",
    "from bs4 import BeautifulSoup\n",
    "from selenium import webdriver\n",
    "from webdrivermanager.chrome import ChromeDriverManager\n",
    "from selenium.webdriver.chrome.options import Options\n"
   ]
  },
  {
   "cell_type": "code",
   "execution_count": 17,
   "metadata": {},
   "outputs": [],
   "source": [
    "class AmazonProductScraper:\n",
    "    def __init__(self):\n",
    "        self.driver = None\n",
    "\n",
    "    def open_browser(self):\n",
    "        \n",
    "        opt = Options()\n",
    "\n",
    "        opt.add_argument(\"--disable-infobars\")\n",
    "        opt.add_argument(\"--disable-extensions\")\n",
    "        opt.add_argument('--log-level=OFF')\n",
    "        opt.add_experimental_option('excludeSwitches', ['enable-logging'])\n",
    "\n",
    "        url = \"https://www.amazon.in/\"\n",
    "        self.driver = webdriver.Chrome(r\"E:\\chromedriver.exe\")\n",
    "        \n",
    "        self.driver.get(url)\n",
    "        print(\"\\n>> The browser is open\")\n",
    "\n",
    "       \n",
    "        time.sleep(3)\n",
    "\n",
    "    def get_product_url(self):\n",
    "\n",
    "        search_product_name = input(\">> Enter the product to be searched: \").replace(\" \", \"+\")\n",
    "\n",
    "       \n",
    "        product_url = \"https://www.amazon.in/s?k={}&ref=nb_sb_noss\"\n",
    "\n",
    "        product_url = product_url.format(search_product_name)\n",
    "\n",
    "        print(\">> Product URL: \", product_url)\n",
    "\n",
    "        \n",
    "        self.driver.get(product_url)\n",
    "        \n",
    "        return [product_url, search_product_name, search_product_name]\n",
    "\n",
    "    def extract_webpage_information(self):\n",
    "       \n",
    "        soup = BeautifulSoup(self.driver.page_source, 'html.parser')\n",
    "        \n",
    "        search_results = soup.find_all('div', {'data-component-type': 's-search-result'})\n",
    "\n",
    "        return search_results\n",
    "\n",
    "    @staticmethod\n",
    "    def extract_product_information(search_results):\n",
    "        temporary_record = []\n",
    "        for i in range(len(search_results)):\n",
    "            item = search_results[i]\n",
    "\n",
    "            \n",
    "            atag_item = item.h2.a\n",
    "\n",
    "           \n",
    "            description = atag_item.text.strip()\n",
    "\n",
    "            \n",
    "            product_url = \"https://www.amazon.in/\" + atag_item.get('href')\n",
    "            \n",
    "            try:\n",
    "                product_review = item.i.text.strip()\n",
    "            except AttributeError:\n",
    "                product_review = \"N/A\"\n",
    "            try:\n",
    "                review_number = item.find('span', {'class': 'a-size-base'}).text\n",
    "            except AttributeError:\n",
    "                review_number = \"N/A\"    \n",
    "            product_information = (product_review, review_number, product_url)\n",
    "\n",
    "            \n",
    "            temporary_record.append(product_information)\n",
    "    \n",
    "        return temporary_record\n",
    "\n",
    "    def navigate_to_other_pages(self, product_details):\n",
    "        \n",
    "        records = []\n",
    "\n",
    "        product_url = product_details[0]\n",
    "        search_product_name = product_url[1]\n",
    "\n",
    "        print(\"\\n>> Page 1 - webpage information extracted\")\n",
    "\n",
    "        max_number_of_pages = \"(//li[@class='a-disabled'])[3]\"\n",
    "\n",
    "        number_of_pages = self.driver.find_element_by_xpath(max_number_of_pages)\n",
    "\n",
    "        for i in range(2, int(number_of_pages.text)+1):\n",
    "            \n",
    "            next_page_url = product_url+ \"&page=\" + str(i)\n",
    "            self.driver.get(next_page_url)\n",
    "\n",
    "            \n",
    "            search_results = self.extract_webpage_information()\n",
    "            temporary_record = self.extract_product_information(search_results)\n",
    "\n",
    "            extraction_information = \">> Page {} - webpage information extracted\"\n",
    "            print(extraction_information.format(i))\n",
    "\n",
    "            for j in temporary_record:\n",
    "                records.append(j)\n",
    "\n",
    "        self.driver.close()\n",
    "\n",
    "        return records\n",
    "\n",
    "    @staticmethod\n",
    "    def product_information_spreadsheet(records, product_details):\n",
    "\n",
    "        today = date.today().strftime(\"%d-%m-%Y\")\n",
    "\n",
    "        for _ in records:\n",
    "\n",
    "            searched_product = product_details[-1]\n",
    "\n",
    "            file_name = \"{}_{}.csv\".format(searched_product, today)\n",
    "            f = open(file_name, \"w\", newline='', encoding='utf-8')\n",
    "            writer = csv.writer(f)\n",
    "            writer.writerow(['Rating', 'Review Count', 'Product URL'])\n",
    "            writer.writerows(records)\n",
    "            f.close()\n",
    "\n",
    "        message = (\"\\n>> Information about the product '{}' is stored in {}\").format(searched_product, file_name)\n",
    "\n",
    "        print(message)\n",
    "\n",
    "        os.startfile(file_name)    "
   ]
  },
  {
   "cell_type": "code",
   "execution_count": 19,
   "metadata": {},
   "outputs": [
    {
     "name": "stdout",
     "output_type": "stream",
     "text": [
      "\n",
      ">> The browser is open\n",
      ">> Enter the product to be searched: laptop\n",
      ">> Product URL:  https://www.amazon.in/s?k=laptop&ref=nb_sb_noss\n",
      "\n",
      ">> Page 1 - webpage information extracted\n",
      ">> Page 2 - webpage information extracted\n",
      ">> Page 3 - webpage information extracted\n",
      ">> Page 4 - webpage information extracted\n",
      ">> Page 5 - webpage information extracted\n",
      ">> Page 6 - webpage information extracted\n",
      ">> Page 7 - webpage information extracted\n",
      ">> Page 8 - webpage information extracted\n",
      ">> Page 9 - webpage information extracted\n",
      ">> Page 10 - webpage information extracted\n",
      ">> Page 11 - webpage information extracted\n",
      ">> Page 12 - webpage information extracted\n",
      ">> Page 13 - webpage information extracted\n",
      ">> Page 14 - webpage information extracted\n",
      ">> Page 15 - webpage information extracted\n",
      ">> Page 16 - webpage information extracted\n",
      ">> Page 17 - webpage information extracted\n",
      ">> Page 18 - webpage information extracted\n",
      ">> Page 19 - webpage information extracted\n",
      ">> Page 20 - webpage information extracted\n",
      "\n",
      ">> Information about the product 'laptop' is stored in laptop_24-06-2021.csv\n"
     ]
    }
   ],
   "source": [
    "\n",
    "if __name__ == \"__main__\":\n",
    "\n",
    "    my_amazon_bot = AmazonProductScraper()\n",
    "\n",
    "    my_amazon_bot.open_browser()\n",
    "\n",
    "    product_details = my_amazon_bot.get_product_url()\n",
    "\n",
    "    my_amazon_bot.extract_product_information(my_amazon_bot.extract_webpage_information())\n",
    "\n",
    "    navigation = my_amazon_bot.navigate_to_other_pages(product_details)\n",
    "\n",
    "    my_amazon_bot.product_information_spreadsheet(navigation, product_details)"
   ]
  },
  {
   "cell_type": "code",
   "execution_count": 20,
   "metadata": {},
   "outputs": [],
   "source": [
    "import pandas as pd\n",
    "import numpy as np"
   ]
  },
  {
   "cell_type": "code",
   "execution_count": 21,
   "metadata": {},
   "outputs": [],
   "source": [
    "df=pd.read_csv('laptop_24-06-2021.csv')"
   ]
  },
  {
   "cell_type": "code",
   "execution_count": 22,
   "metadata": {},
   "outputs": [
    {
     "data": {
      "text/html": [
       "<div>\n",
       "<style scoped>\n",
       "    .dataframe tbody tr th:only-of-type {\n",
       "        vertical-align: middle;\n",
       "    }\n",
       "\n",
       "    .dataframe tbody tr th {\n",
       "        vertical-align: top;\n",
       "    }\n",
       "\n",
       "    .dataframe thead th {\n",
       "        text-align: right;\n",
       "    }\n",
       "</style>\n",
       "<table border=\"1\" class=\"dataframe\">\n",
       "  <thead>\n",
       "    <tr style=\"text-align: right;\">\n",
       "      <th></th>\n",
       "      <th>Rating</th>\n",
       "      <th>Review Count</th>\n",
       "      <th>Product URL</th>\n",
       "    </tr>\n",
       "  </thead>\n",
       "  <tbody>\n",
       "    <tr>\n",
       "      <th>0</th>\n",
       "      <td>3.3 out of 5 stars</td>\n",
       "      <td>2</td>\n",
       "      <td>https://www.amazon.in//gp/slredirect/picassoRe...</td>\n",
       "    </tr>\n",
       "    <tr>\n",
       "      <th>1</th>\n",
       "      <td>NaN</td>\n",
       "      <td>NaN</td>\n",
       "      <td>https://www.amazon.in//gp/slredirect/picassoRe...</td>\n",
       "    </tr>\n",
       "    <tr>\n",
       "      <th>2</th>\n",
       "      <td>3.8 out of 5 stars</td>\n",
       "      <td>186</td>\n",
       "      <td>https://www.amazon.in//ASUS-VivoBook-i3-1005G1...</td>\n",
       "    </tr>\n",
       "    <tr>\n",
       "      <th>3</th>\n",
       "      <td>4.1 out of 5 stars</td>\n",
       "      <td>871</td>\n",
       "      <td>https://www.amazon.in//HP-Laptop-15-6-inch-Win...</td>\n",
       "    </tr>\n",
       "    <tr>\n",
       "      <th>4</th>\n",
       "      <td>3.4 out of 5 stars</td>\n",
       "      <td>245</td>\n",
       "      <td>https://www.amazon.in//Lenovo-Ideapad-Windows-...</td>\n",
       "    </tr>\n",
       "  </tbody>\n",
       "</table>\n",
       "</div>"
      ],
      "text/plain": [
       "               Rating Review Count  \\\n",
       "0  3.3 out of 5 stars            2   \n",
       "1                 NaN          NaN   \n",
       "2  3.8 out of 5 stars          186   \n",
       "3  4.1 out of 5 stars          871   \n",
       "4  3.4 out of 5 stars          245   \n",
       "\n",
       "                                         Product URL  \n",
       "0  https://www.amazon.in//gp/slredirect/picassoRe...  \n",
       "1  https://www.amazon.in//gp/slredirect/picassoRe...  \n",
       "2  https://www.amazon.in//ASUS-VivoBook-i3-1005G1...  \n",
       "3  https://www.amazon.in//HP-Laptop-15-6-inch-Win...  \n",
       "4  https://www.amazon.in//Lenovo-Ideapad-Windows-...  "
      ]
     },
     "execution_count": 22,
     "metadata": {},
     "output_type": "execute_result"
    }
   ],
   "source": [
    "df.head()"
   ]
  },
  {
   "cell_type": "code",
   "execution_count": 23,
   "metadata": {},
   "outputs": [
    {
     "data": {
      "text/plain": [
       "(298, 3)"
      ]
     },
     "execution_count": 23,
     "metadata": {},
     "output_type": "execute_result"
    }
   ],
   "source": [
    "df.shape\n"
   ]
  },
  {
   "cell_type": "code",
   "execution_count": 24,
   "metadata": {},
   "outputs": [
    {
     "name": "stdout",
     "output_type": "stream",
     "text": [
      "<class 'pandas.core.frame.DataFrame'>\n",
      "RangeIndex: 298 entries, 0 to 297\n",
      "Data columns (total 3 columns):\n",
      " #   Column        Non-Null Count  Dtype \n",
      "---  ------        --------------  ----- \n",
      " 0   Rating        237 non-null    object\n",
      " 1   Review Count  238 non-null    object\n",
      " 2   Product URL   298 non-null    object\n",
      "dtypes: object(3)\n",
      "memory usage: 7.1+ KB\n"
     ]
    }
   ],
   "source": [
    "df.info()"
   ]
  },
  {
   "cell_type": "code",
   "execution_count": 25,
   "metadata": {},
   "outputs": [
    {
     "data": {
      "text/plain": [
       "Rating          61\n",
       "Review Count    60\n",
       "Product URL      0\n",
       "dtype: int64"
      ]
     },
     "execution_count": 25,
     "metadata": {},
     "output_type": "execute_result"
    }
   ],
   "source": [
    "df.isnull().sum()"
   ]
  },
  {
   "cell_type": "code",
   "execution_count": 26,
   "metadata": {},
   "outputs": [],
   "source": [
    "df=df.drop(columns=[\"Product URL\"], axis=1)"
   ]
  },
  {
   "cell_type": "code",
   "execution_count": 27,
   "metadata": {},
   "outputs": [
    {
     "data": {
      "text/plain": [
       "Rating          61\n",
       "Review Count    60\n",
       "dtype: int64"
      ]
     },
     "execution_count": 27,
     "metadata": {},
     "output_type": "execute_result"
    }
   ],
   "source": [
    "df.isnull().sum()"
   ]
  },
  {
   "cell_type": "code",
   "execution_count": 28,
   "metadata": {},
   "outputs": [],
   "source": [
    "df['Rating']=df['Rating'].fillna(df['Rating'].mode()[0])\n",
    "df['Review Count']=df['Review Count'].fillna(df['Review Count'].mode()[0])"
   ]
  },
  {
   "cell_type": "code",
   "execution_count": 29,
   "metadata": {},
   "outputs": [
    {
     "data": {
      "text/plain": [
       "Rating          0\n",
       "Review Count    0\n",
       "dtype: int64"
      ]
     },
     "execution_count": 29,
     "metadata": {},
     "output_type": "execute_result"
    }
   ],
   "source": [
    "df.isnull().sum()"
   ]
  },
  {
   "cell_type": "code",
   "execution_count": 30,
   "metadata": {},
   "outputs": [
    {
     "data": {
      "text/plain": [
       "<matplotlib.axes._subplots.AxesSubplot at 0x23f6f8b1ca0>"
      ]
     },
     "execution_count": 30,
     "metadata": {},
     "output_type": "execute_result"
    },
    {
     "data": {
      "image/png": "[encoded data removed]",
      "text/plain": [
       "<Figure size 432x288 with 1 Axes>"
      ]
     },
     "metadata": {
      "needs_background": "light"
     },
     "output_type": "display_data"
    }
   ],
   "source": [
    "import matplotlib.pyplot as plt\n",
    "import seaborn as sns\n",
    "import warnings\n",
    "warnings.filterwarnings('ignore')\n",
    "sns.heatmap(df.isnull(),yticklabels=False,cbar=False,cmap='coolwarm')"
   ]
  },
  {
   "cell_type": "code",
   "execution_count": 31,
   "metadata": {},
   "outputs": [
    {
     "data": {
      "text/html": [
       "<div>\n",
       "<style scoped>\n",
       "    .dataframe tbody tr th:only-of-type {\n",
       "        vertical-align: middle;\n",
       "    }\n",
       "\n",
       "    .dataframe tbody tr th {\n",
       "        vertical-align: top;\n",
       "    }\n",
       "\n",
       "    .dataframe thead th {\n",
       "        text-align: right;\n",
       "    }\n",
       "</style>\n",
       "<table border=\"1\" class=\"dataframe\">\n",
       "  <thead>\n",
       "    <tr style=\"text-align: right;\">\n",
       "      <th></th>\n",
       "      <th>Rating</th>\n",
       "      <th>Review Count</th>\n",
       "    </tr>\n",
       "  </thead>\n",
       "  <tbody>\n",
       "    <tr>\n",
       "      <th>count</th>\n",
       "      <td>298</td>\n",
       "      <td>298</td>\n",
       "    </tr>\n",
       "    <tr>\n",
       "      <th>unique</th>\n",
       "      <td>28</td>\n",
       "      <td>122</td>\n",
       "    </tr>\n",
       "    <tr>\n",
       "      <th>top</th>\n",
       "      <td>3.9 out of 5 stars</td>\n",
       "      <td>1</td>\n",
       "    </tr>\n",
       "    <tr>\n",
       "      <th>freq</th>\n",
       "      <td>85</td>\n",
       "      <td>72</td>\n",
       "    </tr>\n",
       "  </tbody>\n",
       "</table>\n",
       "</div>"
      ],
      "text/plain": [
       "                    Rating Review Count\n",
       "count                  298          298\n",
       "unique                  28          122\n",
       "top     3.9 out of 5 stars            1\n",
       "freq                    85           72"
      ]
     },
     "execution_count": 31,
     "metadata": {},
     "output_type": "execute_result"
    }
   ],
   "source": [
    "df.describe()"
   ]
  },
  {
   "cell_type": "code",
   "execution_count": 32,
   "metadata": {},
   "outputs": [],
   "source": [
    "from sklearn.preprocessing import LabelEncoder\n",
    "\n",
    "le=LabelEncoder()\n",
    "\n",
    "for column in df.columns:\n",
    "    if df[column].dtype==np.number:\n",
    "        continue\n",
    "    df[column]=le.fit_transform(df[column])"
   ]
  },
  {
   "cell_type": "code",
   "execution_count": 33,
   "metadata": {},
   "outputs": [
    {
     "data": {
      "text/html": [
       "<div>\n",
       "<style scoped>\n",
       "    .dataframe tbody tr th:only-of-type {\n",
       "        vertical-align: middle;\n",
       "    }\n",
       "\n",
       "    .dataframe tbody tr th {\n",
       "        vertical-align: top;\n",
       "    }\n",
       "\n",
       "    .dataframe thead th {\n",
       "        text-align: right;\n",
       "    }\n",
       "</style>\n",
       "<table border=\"1\" class=\"dataframe\">\n",
       "  <thead>\n",
       "    <tr style=\"text-align: right;\">\n",
       "      <th></th>\n",
       "      <th>Rating</th>\n",
       "      <th>Review Count</th>\n",
       "    </tr>\n",
       "  </thead>\n",
       "  <tbody>\n",
       "    <tr>\n",
       "      <th>Rating</th>\n",
       "      <td>1.000000</td>\n",
       "      <td>-0.078399</td>\n",
       "    </tr>\n",
       "    <tr>\n",
       "      <th>Review Count</th>\n",
       "      <td>-0.078399</td>\n",
       "      <td>1.000000</td>\n",
       "    </tr>\n",
       "  </tbody>\n",
       "</table>\n",
       "</div>"
      ],
      "text/plain": [
       "                Rating  Review Count\n",
       "Rating        1.000000     -0.078399\n",
       "Review Count -0.078399      1.000000"
      ]
     },
     "execution_count": 33,
     "metadata": {},
     "output_type": "execute_result"
    }
   ],
   "source": [
    "df_cor=df.corr()\n",
    "df_cor"
   ]
  },
  {
   "cell_type": "code",
   "execution_count": 34,
   "metadata": {},
   "outputs": [
    {
     "data": {
      "text/plain": [
       "Rating         -0.562396\n",
       "Review Count    0.346106\n",
       "dtype: float64"
      ]
     },
     "execution_count": 34,
     "metadata": {},
     "output_type": "execute_result"
    }
   ],
   "source": [
    "df.skew()"
   ]
  },
  {
   "cell_type": "code",
   "execution_count": 35,
   "metadata": {},
   "outputs": [
    {
     "data": {
      "image/png": "[encoded data removed]",
      "text/plain": [
       "<Figure size 360x360 with 2 Axes>"
      ]
     },
     "metadata": {
      "needs_background": "light"
     },
     "output_type": "display_data"
    }
   ],
   "source": [
    "df.hist(figsize=(5,5))\n",
    "plt.show()"
   ]
  },
  {
   "cell_type": "code",
   "execution_count": 36,
   "metadata": {},
   "outputs": [
    {
     "data": {
      "text/plain": [
       "-0.5595608591322282"
      ]
     },
     "execution_count": 36,
     "metadata": {},
     "output_type": "execute_result"
    }
   ],
   "source": [
    "from scipy.stats import skew\n",
    "skew(df['Rating'].dropna())"
   ]
  },
  {
   "cell_type": "code",
   "execution_count": 37,
   "metadata": {},
   "outputs": [
    {
     "name": "stdout",
     "output_type": "stream",
     "text": [
      "null hyp of normality is accepted\n"
     ]
    }
   ],
   "source": [
    "from scipy import stats\n",
    "p_value=stats.shapiro(df['Rating'].dropna())[1]\n",
    "if p_value >= 0.05:\n",
    "    print('null hyp of normality is rejected')\n",
    "else:\n",
    "    print('null hyp of normality is accepted')\n"
   ]
  },
  {
   "cell_type": "code",
   "execution_count": 38,
   "metadata": {},
   "outputs": [
    {
     "data": {
      "text/html": [
       "<div>\n",
       "<style scoped>\n",
       "    .dataframe tbody tr th:only-of-type {\n",
       "        vertical-align: middle;\n",
       "    }\n",
       "\n",
       "    .dataframe tbody tr th {\n",
       "        vertical-align: top;\n",
       "    }\n",
       "\n",
       "    .dataframe thead th {\n",
       "        text-align: right;\n",
       "    }\n",
       "</style>\n",
       "<table border=\"1\" class=\"dataframe\">\n",
       "  <thead>\n",
       "    <tr style=\"text-align: right;\">\n",
       "      <th></th>\n",
       "      <th>Rating</th>\n",
       "    </tr>\n",
       "  </thead>\n",
       "  <tbody>\n",
       "    <tr>\n",
       "      <th>0</th>\n",
       "      <td>11</td>\n",
       "    </tr>\n",
       "    <tr>\n",
       "      <th>1</th>\n",
       "      <td>17</td>\n",
       "    </tr>\n",
       "    <tr>\n",
       "      <th>2</th>\n",
       "      <td>16</td>\n",
       "    </tr>\n",
       "    <tr>\n",
       "      <th>3</th>\n",
       "      <td>19</td>\n",
       "    </tr>\n",
       "    <tr>\n",
       "      <th>4</th>\n",
       "      <td>12</td>\n",
       "    </tr>\n",
       "  </tbody>\n",
       "</table>\n",
       "</div>"
      ],
      "text/plain": [
       "   Rating\n",
       "0      11\n",
       "1      17\n",
       "2      16\n",
       "3      19\n",
       "4      12"
      ]
     },
     "execution_count": 38,
     "metadata": {},
     "output_type": "execute_result"
    }
   ],
   "source": [
    "x=df.iloc[:,0:-1]\n",
    "x.head()"
   ]
  },
  {
   "cell_type": "code",
   "execution_count": 39,
   "metadata": {},
   "outputs": [
    {
     "data": {
      "text/plain": [
       "0     41\n",
       "1      0\n",
       "2     36\n",
       "3    113\n",
       "4     47\n",
       "Name: Review Count, dtype: int32"
      ]
     },
     "execution_count": 39,
     "metadata": {},
     "output_type": "execute_result"
    }
   ],
   "source": [
    "y=df.iloc[:,-1]\n",
    "y.head()"
   ]
  },
  {
   "cell_type": "code",
   "execution_count": 40,
   "metadata": {},
   "outputs": [
    {
     "data": {
      "text/plain": [
       "(298, 1)"
      ]
     },
     "execution_count": 40,
     "metadata": {},
     "output_type": "execute_result"
    }
   ],
   "source": [
    "x.shape"
   ]
  },
  {
   "cell_type": "code",
   "execution_count": 41,
   "metadata": {},
   "outputs": [
    {
     "data": {
      "text/plain": [
       "(298,)"
      ]
     },
     "execution_count": 41,
     "metadata": {},
     "output_type": "execute_result"
    }
   ],
   "source": [
    "y.shape"
   ]
  },
  {
   "cell_type": "code",
   "execution_count": 42,
   "metadata": {},
   "outputs": [],
   "source": [
    "from sklearn.model_selection import train_test_split\n",
    "\n",
    "x_train,x_test,y_train,y_test=train_test_split(x,y,test_size=.33,random_state=42)"
   ]
  },
  {
   "cell_type": "code",
   "execution_count": 43,
   "metadata": {},
   "outputs": [
    {
     "data": {
      "text/plain": [
       "(199, 1)"
      ]
     },
     "execution_count": 43,
     "metadata": {},
     "output_type": "execute_result"
    }
   ],
   "source": [
    "x_train.shape"
   ]
  },
  {
   "cell_type": "code",
   "execution_count": 44,
   "metadata": {},
   "outputs": [
    {
     "data": {
      "text/plain": [
       "(199,)"
      ]
     },
     "execution_count": 44,
     "metadata": {},
     "output_type": "execute_result"
    }
   ],
   "source": [
    "y_train.shape"
   ]
  },
  {
   "cell_type": "code",
   "execution_count": 45,
   "metadata": {},
   "outputs": [
    {
     "data": {
      "text/plain": [
       "(99, 1)"
      ]
     },
     "execution_count": 45,
     "metadata": {},
     "output_type": "execute_result"
    }
   ],
   "source": [
    "x_test.shape"
   ]
  },
  {
   "cell_type": "code",
   "execution_count": 46,
   "metadata": {},
   "outputs": [
    {
     "data": {
      "text/plain": [
       "(99,)"
      ]
     },
     "execution_count": 46,
     "metadata": {},
     "output_type": "execute_result"
    }
   ],
   "source": [
    "y_test.shape"
   ]
  },
  {
   "cell_type": "code",
   "execution_count": 47,
   "metadata": {},
   "outputs": [],
   "source": [
    "from sklearn.linear_model import LinearRegression\n",
    "lr=LinearRegression()"
   ]
  },
  {
   "cell_type": "code",
   "execution_count": 48,
   "metadata": {},
   "outputs": [
    {
     "data": {
      "text/plain": [
       "LinearRegression()"
      ]
     },
     "execution_count": 48,
     "metadata": {},
     "output_type": "execute_result"
    }
   ],
   "source": [
    "lr.fit(x_train,y_train)"
   ]
  },
  {
   "cell_type": "code",
   "execution_count": 49,
   "metadata": {},
   "outputs": [
    {
     "data": {
      "text/plain": [
       "array([-0.3708852])"
      ]
     },
     "execution_count": 49,
     "metadata": {},
     "output_type": "execute_result"
    }
   ],
   "source": [
    "lr.coef_"
   ]
  },
  {
   "cell_type": "code",
   "execution_count": 50,
   "metadata": {},
   "outputs": [
    {
     "data": {
      "text/plain": [
       "51.20462305521502"
      ]
     },
     "execution_count": 50,
     "metadata": {},
     "output_type": "execute_result"
    }
   ],
   "source": [
    "lr.intercept_"
   ]
  },
  {
   "cell_type": "code",
   "execution_count": 51,
   "metadata": {},
   "outputs": [
    {
     "data": {
      "text/plain": [
       "0.0022033138222307125"
      ]
     },
     "execution_count": 51,
     "metadata": {},
     "output_type": "execute_result"
    }
   ],
   "source": [
    "lr.score(x_train,y_train)\n"
   ]
  },
  {
   "cell_type": "code",
   "execution_count": 52,
   "metadata": {},
   "outputs": [
    {
     "name": "stdout",
     "output_type": "stream",
     "text": [
      "Predicted Rating: [44.15780423 44.89957464 44.89957464 45.64134504 44.89957464 42.67426343\n",
      " 45.64134504 45.64134504 44.89957464 47.49577104 44.89957464 42.67426343\n",
      " 43.04514863 44.89957464 49.35019705 49.35019705 44.89957464 43.04514863\n",
      " 42.67426343 46.38311544 44.89957464 46.01223024 48.23754145 43.04514863\n",
      " 43.04514863 47.86665625 44.15780423 45.27045984 46.75400064 44.89957464\n",
      " 47.12488584 41.19072262 45.64134504 44.89957464 45.64134504 43.41603383\n",
      " 44.89957464 43.78691903 47.86665625 44.89957464 44.89957464 44.89957464\n",
      " 43.41603383 46.01223024 43.78691903 43.41603383 45.64134504 48.97931185\n",
      " 43.78691903 42.30337823 44.52868944 44.89957464 46.75400064 44.89957464\n",
      " 44.89957464 44.89957464 43.04514863 42.67426343 44.89957464 50.09196745\n",
      " 41.19072262 45.64134504 43.78691903 46.38311544 48.23754145 44.89957464\n",
      " 41.93249303 44.52868944 48.60842665 48.23754145 44.89957464 48.23754145\n",
      " 44.89957464 43.41603383 44.89957464 44.89957464 46.38311544 43.04514863\n",
      " 44.52868944 42.67426343 44.89957464 43.41603383 44.52868944 44.15780423\n",
      " 43.04514863 43.78691903 44.89957464 45.27045984 45.64134504 44.15780423\n",
      " 44.89957464 44.15780423 44.89957464 46.01223024 43.04514863 42.67426343\n",
      " 47.12488584 44.89957464 43.78691903]\n",
      "actual Rating 159     92\n",
      "264      0\n",
      "254      0\n",
      "9        9\n",
      "77       0\n",
      "      ... \n",
      "16      12\n",
      "119     46\n",
      "242     21\n",
      "268     70\n",
      "67     106\n",
      "Name: Review Count, Length: 99, dtype: int32\n"
     ]
    }
   ],
   "source": [
    "label=lr.predict(x_test)\n",
    "print('Predicted Rating:',label)\n",
    "print('actual Rating',y_test)"
   ]
  },
  {
   "cell_type": "code",
   "execution_count": 53,
   "metadata": {},
   "outputs": [
    {
     "name": "stdout",
     "output_type": "stream",
     "text": [
      "error:\n",
      "Mean absolute error: 33.76153977014578\n",
      "Mean squared error: 1415.232131507252\n"
     ]
    }
   ],
   "source": [
    "from sklearn.metrics import mean_absolute_error,mean_squared_error\n",
    "print('error:')\n",
    "print('Mean absolute error:',mean_absolute_error(y_test,label))\n",
    "print('Mean squared error:',mean_squared_error(y_test,label))\n"
   ]
  },
  {
   "cell_type": "code",
   "execution_count": 54,
   "metadata": {},
   "outputs": [
    {
     "name": "stdout",
     "output_type": "stream",
     "text": [
      "0.0025936939371514756\n"
     ]
    }
   ],
   "source": [
    "from sklearn.metrics import r2_score\n",
    "print(r2_score(y_test,label))"
   ]
  },
  {
   "cell_type": "code",
   "execution_count": 55,
   "metadata": {},
   "outputs": [
    {
     "data": {
      "text/plain": [
       "-0.024874209149444583"
      ]
     },
     "execution_count": 55,
     "metadata": {},
     "output_type": "execute_result"
    }
   ],
   "source": [
    "from sklearn.model_selection import cross_val_score\n",
    "from sklearn import linear_model\n",
    "cross_val_score(linear_model.LinearRegression(),x,y,cv=5,scoring='r2').mean()"
   ]
  },
  {
   "cell_type": "code",
   "execution_count": 56,
   "metadata": {},
   "outputs": [],
   "source": [
    "from sklearn.linear_model import LinearRegression,Lasso,Ridge,ElasticNet\n",
    "from sklearn.tree import DecisionTreeRegressor"
   ]
  },
  {
   "cell_type": "code",
   "execution_count": 57,
   "metadata": {},
   "outputs": [
    {
     "name": "stdout",
     "output_type": "stream",
     "text": [
      "Score of LinearRegression() is: 0.0022033138222307125\n",
      "Error:\n",
      "Mean absolute error: 33.76153977014578\n",
      "Mean squared error: 1415.232131507252\n",
      "r2_score: 0.0025936939371514756\n",
      "***************************************************************\n",
      "\n",
      "\n",
      "Score of DecisionTreeRegressor() is: 0.34227600765287824\n",
      "Error:\n",
      "Mean absolute error: 28.773020189686857\n",
      "Mean squared error: 1191.3322188433901\n",
      "r2_score: 0.16039055273233538\n",
      "***************************************************************\n",
      "\n",
      "\n"
     ]
    }
   ],
   "source": [
    "model=[LinearRegression(),DecisionTreeRegressor()]\n",
    "for m in model:\n",
    "    m.fit(x_train,y_train)\n",
    "    print('Score of',m,'is:',m.score(x_train,y_train))\n",
    "    predm=m.predict(x_test)\n",
    "    print('Error:')\n",
    "    print('Mean absolute error:',mean_absolute_error(y_test,predm))\n",
    "    print('Mean squared error:',mean_squared_error(y_test,predm))\n",
    "    print('r2_score:',r2_score(y_test,predm))\n",
    "    print('***************************************************************')\n",
    "    print('\\n')"
   ]
  },
  {
   "cell_type": "code",
   "execution_count": 58,
   "metadata": {},
   "outputs": [
    {
     "name": "stdout",
     "output_type": "stream",
     "text": [
      "Score of Ridge() is: 0.002203313729981282\n",
      "Error:\n",
      "Mean absolute error: 33.76160141115829\n",
      "Mean squared error: 1415.2349797576826\n",
      "r2_score: 0.0025916865894681784\n",
      "***************************************************************\n",
      "\n",
      "\n",
      "Score of ElasticNet() is: 0.002191324297111552\n",
      "Error:\n",
      "Mean absolute error: 33.78376203458185\n",
      "Mean squared error: 1416.2769064009894\n",
      "r2_score: 0.0018573729872307654\n",
      "***************************************************************\n",
      "\n",
      "\n"
     ]
    }
   ],
   "source": [
    "model=[Ridge(),ElasticNet()]\n",
    "for m in model:\n",
    "    m.fit(x_train,y_train)\n",
    "    print('Score of',m,'is:',m.score(x_train,y_train))\n",
    "    predm=m.predict(x_test)\n",
    "    print('Error:')\n",
    "    print('Mean absolute error:',mean_absolute_error(y_test,predm))\n",
    "    print('Mean squared error:',mean_squared_error(y_test,predm))\n",
    "    print('r2_score:',r2_score(y_test,predm))\n",
    "    print('***************************************************************')\n",
    "    print('\\n')"
   ]
  },
  {
   "cell_type": "code",
   "execution_count": 59,
   "metadata": {},
   "outputs": [
    {
     "name": "stdout",
     "output_type": "stream",
     "text": [
      "Score: 0.33602109747989817\n",
      "\n",
      "\n",
      "Mean absolute error: 29.321106864508177\n",
      "Mean squared error: 1204.8890849749257\n",
      "\n",
      "\n",
      "r2_score: 0.15083614574212478\n"
     ]
    }
   ],
   "source": [
    "from sklearn.ensemble import RandomForestRegressor\n",
    "rf=RandomForestRegressor(n_estimators=20,random_state=59)\n",
    "rf.fit(x_train,y_train)\n",
    "print('Score:',rf.score(x_train,y_train))\n",
    "predrf=rf.predict(x_test)\n",
    "print('\\n')\n",
    "print('Mean absolute error:',mean_absolute_error(y_test,predrf)) \n",
    "print('Mean squared error:',mean_squared_error(y_test,predrf))\n",
    "print('\\n')\n",
    "print('r2_score:',r2_score(y_test,predrf))"
   ]
  },
  {
   "cell_type": "code",
   "execution_count": 60,
   "metadata": {},
   "outputs": [
    {
     "name": "stdout",
     "output_type": "stream",
     "text": [
      "Score of Lasso() is: 0.0021767451544758565\n",
      "Error:\n",
      "Mean absolute error: 33.79462028112094\n",
      "Mean squared error: 1416.800496518964\n",
      "r2_score: 0.00148836491157045\n",
      "***************************************************************\n",
      "\n",
      "\n"
     ]
    }
   ],
   "source": [
    "from sklearn.linear_model import Lasso\n",
    "model=[Lasso()]\n",
    "for m in model:\n",
    "    m.fit(x_train,y_train)\n",
    "    print('Score of',m,'is:',m.score(x_train,y_train))\n",
    "    predm=m.predict(x_test)\n",
    "    print('Error:')\n",
    "    print('Mean absolute error:',mean_absolute_error(y_test,predm))\n",
    "    print('Mean squared error:',mean_squared_error(y_test,predm))\n",
    "    print('r2_score:',r2_score(y_test,predm))\n",
    "    print('***************************************************************')\n",
    "    print('\\n')"
   ]
  },
  {
   "cell_type": "code",
   "execution_count": 61,
   "metadata": {},
   "outputs": [
    {
     "name": "stdout",
     "output_type": "stream",
     "text": [
      "Score: 0.003620877938237066\n",
      "\n",
      "\n",
      "Mean absolute error: 33.36640446999768\n",
      "Mean squared error: 1396.9276330386801\n",
      "\n",
      "\n",
      "r2_score: 0.015494066812679175\n"
     ]
    }
   ],
   "source": [
    "from sklearn.ensemble import AdaBoostRegressor\n",
    "lasso=Lasso()\n",
    "\n",
    "adb=AdaBoostRegressor(base_estimator=lasso,n_estimators=20,learning_rate=0.1,random_state=59)\n",
    "adb.fit(x_train,y_train)\n",
    "print('Score:',adb.score(x_train,y_train))\n",
    "predadb=adb.predict(x_test)\n",
    "print('\\n')\n",
    "print('Mean absolute error:',mean_absolute_error(y_test,predadb)) \n",
    "print('Mean squared error:',mean_squared_error(y_test,predadb))\n",
    "print('\\n')\n",
    "print('r2_score:',r2_score(y_test,predadb))"
   ]
  },
  {
   "cell_type": "code",
   "execution_count": 62,
   "metadata": {},
   "outputs": [
    {
     "data": {
      "text/plain": [
       "['df.csv']"
      ]
     },
     "execution_count": 62,
     "metadata": {},
     "output_type": "execute_result"
    }
   ],
   "source": [
    "import joblib\n",
    "joblib.dump(rf,'df.csv')"
   ]
  },
  {
   "cell_type": "code",
   "execution_count": null,
   "metadata": {},
   "outputs": [],
   "source": []
  },
  {
   "cell_type": "code",
   "execution_count": null,
   "metadata": {},
   "outputs": [],
   "source": []
  }
 ],
 "metadata": {
  "kernelspec": {
   "display_name": "Python 3",
   "language": "python",
   "name": "python3"
  },
  "language_info": {
   "codemirror_mode": {
    "name": "ipython",
    "version": 3
   },
   "file_extension": ".py",
   "mimetype": "text/x-python",
   "name": "python",
   "nbconvert_exporter": "python",
   "pygments_lexer": "ipython3",
   "version": "3.8.3"
  }
 },
 "nbformat": 4,
 "nbformat_minor": 4
}
